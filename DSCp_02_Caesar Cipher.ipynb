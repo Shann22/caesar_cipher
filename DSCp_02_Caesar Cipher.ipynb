{
 "cells": [
  {
   "cell_type": "markdown",
   "id": "134395fe",
   "metadata": {},
   "source": [
    "### Prep course (DSCP 2.3)\n",
    "\n",
    "Write a Caesar Cipher function. That is, write a function which:\n",
    "\n",
    "* takes two inputs, a string for the message, and an integer for the shift\n",
    "* returns a string that's just the input string with all of its characters shifted by the amount specified in the shift argument\n",
    "* for each character in the string (including punctuation marks, special characters and capital letters) gets that character's Unicode v, and replaces it by the character with the Unicode v + shift\n",
    "* accounts for user inputs that aren't strings\n",
    "* is as elegant and efficient as possible\n",
    "\n",
    "e.g.<br>\n",
    "print(cCipher('abc', 1))<br>\n",
    "print(cCipher('123', 3))<br>\n",
    "print(cCipher(44, 3))<br>\n",
    "print(cCipher('143Hg!)>#', 2))<br>\n",
    "print(cCipher(\"Here's 2 U MRS Robinson\", 1))<br>\n",
    "Should output:\n",
    "\n",
    "bcd<br>\n",
    "456<br>\n",
    "The input is not a string <br>\n",
    "365Ji#+@%<br>\n",
    "Ifsf(t!3!V!NST!Spcjotpo"
   ]
  },
  {
   "cell_type": "code",
   "execution_count": 1,
   "id": "836c72fc",
   "metadata": {},
   "outputs": [
    {
     "name": "stdout",
     "output_type": "stream",
     "text": [
      "bcd\n",
      "456\n",
      "The input is not a string\n",
      "365Ji#+@%\n",
      "Ifsf(t!3!V!NST!Spcjotpo\n"
     ]
    }
   ],
   "source": [
    "# message = input(\"Enter a message: \")\n",
    "# shift = int(input(\"Enter an integer for the shift: \"))\n",
    "\n",
    "def cCipher(message, shift):\n",
    "    \n",
    "    if type(message) != str:   \n",
    "        return \"The input is not a string\"\n",
    "    \n",
    "    result = \"\"\n",
    "    for char in message: \n",
    "        new_num = ord(char) + shift\n",
    "        new_char = chr(new_num)\n",
    "        result = result + new_char\n",
    "    return result  \n",
    "        \n",
    "print(cCipher('abc', 1))\n",
    "print(cCipher('123', 3))\n",
    "print(cCipher(44, 3))\n",
    "print(cCipher('143Hg!)>#', 2))\n",
    "print(cCipher(\"Here's 2 U MRS Robinson\", 1))"
   ]
  }
 ],
 "metadata": {
  "kernelspec": {
   "display_name": "Python 3 (ipykernel)",
   "language": "python",
   "name": "python3"
  },
  "language_info": {
   "codemirror_mode": {
    "name": "ipython",
    "version": 3
   },
   "file_extension": ".py",
   "mimetype": "text/x-python",
   "name": "python",
   "nbconvert_exporter": "python",
   "pygments_lexer": "ipython3",
   "version": "3.9.7"
  }
 },
 "nbformat": 4,
 "nbformat_minor": 5
}
